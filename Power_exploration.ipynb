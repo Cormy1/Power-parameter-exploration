{
 "cells": [
  {
   "cell_type": "code",
   "execution_count": 2,
   "id": "7db1bc51-cf25-4d76-8d89-8b06d17ccc3d",
   "metadata": {},
   "outputs": [
    {
     "name": "stderr",
     "output_type": "stream",
     "text": [
      "also installing the dependencies ‘BH’, ‘anytime’\n",
      "\n",
      "\n",
      "Updating HTML index of packages in '.Library'\n",
      "\n",
      "Making 'packages.html' ...\n",
      " done\n",
      "\n"
     ]
    }
   ],
   "source": [
    "install.packages(\"shinyWidgets\")"
   ]
  },
  {
   "cell_type": "code",
   "execution_count": 4,
   "id": "8bdb3d04-8b31-4716-a176-e40042e1177d",
   "metadata": {},
   "outputs": [
    {
     "name": "stderr",
     "output_type": "stream",
     "text": [
      "Updating HTML index of packages in '.Library'\n",
      "\n",
      "Making 'packages.html' ...\n",
      " done\n",
      "\n"
     ]
    }
   ],
   "source": [
    "install.packages(\"dashboardthemes\")"
   ]
  },
  {
   "cell_type": "code",
   "execution_count": 21,
   "id": "9a584e24-7af3-44fc-b564-6778215f765f",
   "metadata": {},
   "outputs": [
    {
     "name": "stderr",
     "output_type": "stream",
     "text": [
      "Updating HTML index of packages in '.Library'\n",
      "\n",
      "Making 'packages.html' ...\n",
      " done\n",
      "\n"
     ]
    }
   ],
   "source": [
    "install.packages(\"shinyBS\")"
   ]
  },
  {
   "cell_type": "code",
   "execution_count": null,
   "id": "482c13fc-eb5c-424a-951b-a3cfaf3722da",
   "metadata": {},
   "outputs": [],
   "source": [
    "library(shiny)\n",
    "library(ggplot2)\n",
    "library(stats)\n",
    "library(shinyWidgets)\n",
    "library(shinydashboard)\n",
    "library(dashboardthemes)\n",
    "library(fresh)\n",
    "library(shinyBS)\n",
    "library(pwr)"
   ]
  },
  {
   "cell_type": "code",
   "execution_count": 23,
   "id": "4e442a81-99fd-4070-86e4-c4d09a485001",
   "metadata": {},
   "outputs": [],
   "source": [
    "my_theme = create_theme(\n",
    "  adminlte_color(\n",
    "    light_blue = \"#a61456\"\n",
    "  )\n",
    ")"
   ]
  },
  {
   "cell_type": "code",
   "execution_count": null,
   "id": "13eb7b78-848b-4e15-b9e1-b47ce94f22fc",
   "metadata": {},
   "outputs": [],
   "source": [
    "# Function to calculate required sample size\n",
    "calculate_sample_size <- function(effect_size, alpha, power) {\n",
    "  pwr.t.test(power = as.numeric(power), d = effect_size, sig.level = as.numeric(alpha), alternative = \"two.sided\")$n\n",
    "}"
   ]
  },
  {
   "cell_type": "code",
   "execution_count": 18,
   "id": "6ff9b2b8-aeba-45a0-8752-19ad541e0801",
   "metadata": {},
   "outputs": [],
   "source": [
    "header <- dashboardHeader(\n",
    "  title = \"Exploration of paramaters in power calculation\",\n",
    "  titleWidth = 350,\n",
    "  tags$li(class = \"dropdown\",\n",
    "          tags$a(href = \"#\", class = \"dropdown-toggle\", \"Logo Image\", \n",
    "                 style = \"padding-top: 8px;\",\n",
    "                 tags$img(src = \"recon_logo.png\", height = \"30px\")),\n",
    "          class = \"dropdown notifications-menu\",\n",
    "          style = \"padding-right: 20px;\"\n",
    "  )\n",
    ")"
   ]
  },
  {
   "cell_type": "code",
   "execution_count": 19,
   "id": "6e68dd9c-52f8-4bfb-88ac-0e22e176133c",
   "metadata": {},
   "outputs": [],
   "source": [
    "sidebar <- dashboardSidebar(\n",
    "  sidebarMenu(\n",
    "    menuItem(\"Basic two-sample t-test\", tabName = \"power_analysis\")\n",
    "  )\n",
    ")"
   ]
  },
  {
   "cell_type": "code",
   "execution_count": 24,
   "id": "c2f95dfc-44f8-4ada-b8ef-60661b1ce3df",
   "metadata": {},
   "outputs": [],
   "source": [
    "body <- dashboardBody(\n",
    "  use_theme(my_theme),\n",
    "  tabItems(\n",
    "    tabItem(\"power_analysis\",\n",
    "            sidebarLayout(\n",
    "              sidebarPanel(\n",
    "                bsTooltip(\"effect_size\", \"Select an effect size. The effect size is a measure of the strength of difference between groups or conditions. A larger effect size indicates a larger difference.\",\n",
    "                          placement = \"bottom\", trigger = \"hover\"),\n",
    "                sliderInput(\"effect_size\", \"Effect Size\", min = 0.005, max = 1, value = 0.3, step = 0.005),\n",
    "                bsTooltip(\"alpha\", \"The significance level is the probability of rejecting the null hypothesis when it is true.\",\n",
    "                          placement = \"bottom\", trigger = \"hover\"),\n",
    "                selectInput(\"alpha\", \"Select significance Level\", choices = c(0.01, 0.025, 0.05, 0.1), selected = 0.05),\n",
    "                bsTooltip(\"power\", \"Power is the probability of correctly rejecting the null hypothesis when it is false. A higher power value indicates a higher chance of detecting a true effect if it exists.\",\n",
    "                          placement = \"bottom\", trigger = \"hover\"),\n",
    "                selectInput(\"power\", \"Select power of test\", choices = c(0.1, 0.2, 0.3, 0.4, 0.5, 0.6, 0.7, 0.8, 0.9), selected = 0.8),\n",
    "                bsTooltip(\"name\", \"Select your name from dropdown for identification purposes.\",\n",
    "                          placement = \"bottom\", trigger = \"hover\")\n",
    "              ),\n",
    "              mainPanel(\n",
    "                plotOutput(\"sample_size_plot\"),\n",
    "                uiOutput(\"sample_size_text\")  \n",
    "                \n",
    "              )\n",
    "            )\n",
    "    )\n",
    "  )\n",
    ")"
   ]
  },
  {
   "cell_type": "code",
   "execution_count": 25,
   "id": "c369c4eb-5e4d-433c-a906-fb85ddda7d9a",
   "metadata": {},
   "outputs": [],
   "source": [
    "ui <- dashboardPage(\n",
    "  header, \n",
    "  sidebar, \n",
    "  body\n",
    ")"
   ]
  },
  {
   "cell_type": "code",
   "execution_count": 38,
   "id": "16e87e96-1764-4d4e-a2fa-b0b9d86a1f11",
   "metadata": {},
   "outputs": [],
   "source": [
    "server <- function(input, output, session) {\n",
    "\n",
    "      es = as.numeric(input$effect_size)\n",
    "      a = as.numeric(input$alpha)\n",
    "      b = as.numeric(input$power)\n",
    "\n",
    "  \n",
    "  output$sample_size_plot <- renderPlot({\n",
    "    effect_sizes <- seq(0.005, 2, 0.005)\n",
    "    sample_sizes <- sapply(effect_sizes, function(es) calculate_sample_size(es, a, b))\n",
    "    \n",
    "    df <- data.frame(Effect_Size = effect_sizes, Sample_Size = sample_sizes)\n",
    "    \n",
    "    ggplot(df, aes(x = Sample_Size, y = Effect_Size)) +\n",
    "      geom_line(color = \"#a61456\") +\n",
    "      geom_point(data = df[df$Effect_Size == es, ], aes(x = Sample_Size, y = Effect_Size), color = \"midnightblue\") +\n",
    "      geom_segment(aes(y = -Inf, \n",
    "                       yend = df[df$Effect_Size == es, \"Effect_Size\"], \n",
    "                       x = df[df$Effect_Size == es, \"Sample_Size\"], \n",
    "                       xend = df[df$Effect_Size == es, \"Sample_Size\"]),\n",
    "                   linetype = \"dashed\", color = \"slateblue\") +\n",
    "      geom_segment(aes(x = -Inf, \n",
    "                       y = df[df$Effect_Size == es, \"Effect_Size\"], \n",
    "                       xend = df[df$Effect_Size == es, \"Sample_Size\"], \n",
    "                       yend = df[df$Effect_Size == es, \"Effect_Size\"]),\n",
    "                   linetype = \"dashed\", color = \"slateblue\") +\n",
    "      xlim(0, 500) +\n",
    "      xlab(\"Sample Size\") +\n",
    "      ylab(\"Effect Size\") +\n",
    "      ggtitle(paste(\"Sample size vs. effect size for significance\", a, \"and power\", b)) +\n",
    "      theme_light()\n",
    "  })\n",
    "  \n",
    "  \n",
    "  output$sample_size_text <- renderUI({\n",
    "    valueBox(\"Optimal sample size n (for each group)\",\n",
    "             width = 12,\n",
    "             value = round(calculate_sample_size(effect_size= es, alpha= a, power = b)),\n",
    "             color = \"light-blue\"\n",
    "    )\n",
    "  })\n",
    "}"
   ]
  },
  {
   "cell_type": "code",
   "execution_count": null,
   "id": "0d4bc906-64ff-4876-9f15-78e9d7d1bc7b",
   "metadata": {},
   "outputs": [
    {
     "name": "stderr",
     "output_type": "stream",
     "text": [
      "\n",
      "Listening on http://127.0.0.1:5479\n",
      "\n"
     ]
    }
   ],
   "source": [
    "# Run the Shiny app\n",
    "shinyApp(ui = ui, server = server)"
   ]
  }
 ],
 "metadata": {
  "kernelspec": {
   "display_name": "R",
   "language": "R",
   "name": "ir"
  },
  "language_info": {
   "codemirror_mode": "r",
   "file_extension": ".r",
   "mimetype": "text/x-r-source",
   "name": "R",
   "pygments_lexer": "r",
   "version": "4.2.0"
  }
 },
 "nbformat": 4,
 "nbformat_minor": 5
}
