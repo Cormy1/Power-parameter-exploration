{
 "cells": [
  {
   "cell_type": "code",
   "execution_count": 8,
   "id": "3eed1c86",
   "metadata": {},
   "outputs": [],
   "source": [
    "import numpy as np\n",
    "import plotly.graph_objects as go\n",
    "import ipywidgets as widgets\n",
    "from statsmodels.stats.power import TTestIndPower\n",
    "import warnings\n",
    "import plotly.io as pio\n",
    "\n",
    "warnings.filterwarnings('ignore')\n",
    "\n",
    "def n_es_plot(alpha=0.05, power=0.8, es_in=0.3):\n",
    "    \"\"\"\n",
    "    Function for creating an interactive plot for given significance and power\n",
    "    \"\"\"\n",
    "\n",
    "    effect_sizes = np.arange(0.005, 2, 0.005)  # Range of effect sizes\n",
    "\n",
    "    # Empty lists for storing results\n",
    "    es_list = []\n",
    "    n_list = []\n",
    "    for es in effect_sizes:\n",
    "        power_analysis = TTestIndPower()  # Uses pooled variances\n",
    "        n_needed = power_analysis.solve_power(effect_size=es,\n",
    "                                              alpha=alpha,\n",
    "                                              power=power,\n",
    "                                              alternative=\"two-sided\")  # Calculate the power of a t-test for two independent samples\n",
    "        es_list.append(es)\n",
    "        n_list.append(n_needed)\n",
    "\n",
    "    n_in = n_list[es_list.index(es_in)]\n",
    "\n",
    "    fig = go.Figure()\n",
    "\n",
    "    fig.add_trace(go.Scatter(x=n_list, y=es_list, mode='lines', line=dict(color='mediumorchid')))\n",
    "    fig.add_trace(go.Scatter(x=[n_in, n_in], y=[0, es_in], mode='lines', line=dict(color='slateblue', dash='dash')))\n",
    "    fig.add_trace(go.Scatter(x=[0, n_in], y=[es_in, es_in], mode='lines', line=dict(color='slateblue', dash='dash')))\n",
    "    fig.add_trace(go.Scatter(x=[n_in], y=[es_in], mode='markers', marker=dict(color='midnightblue')))\n",
    "    fig.update_layout(\n",
    "        xaxis=dict(title=\"Sample Size\", range=[0, 500]),  # Constrain x-axis to range 0-500\n",
    "        yaxis=dict(title=\"Effect Size\"),\n",
    "        title=f'Sample size vs. effect size for significance {alpha} and power {power}',\n",
    "        showlegend=False,\n",
    "        plot_bgcolor='white'\n",
    "    )\n",
    "\n",
    "    fig.update_annotations(\n",
    "        dict(\n",
    "            x=n_in,\n",
    "            y=0,\n",
    "            text=f'{round(n_in)} samples',\n",
    "            showarrow=True,\n",
    "            arrowhead=7,\n",
    "            ax=15,\n",
    "            ay=15,\n",
    "            bgcolor='mediumorchid',\n",
    "            opacity=0.8\n",
    "        )\n",
    "    )\n",
    "\n",
    "    return fig"
   ]
  },
  {
   "cell_type": "code",
   "execution_count": 12,
   "id": "b2170a1b",
   "metadata": {},
   "outputs": [
    {
     "data": {
      "application/vnd.jupyter.widget-view+json": {
       "model_id": "21fcdba9ab4644e58041f26b90aeb7dd",
       "version_major": 2,
       "version_minor": 0
      },
      "text/plain": [
       "HBox(children=(FloatSlider(value=0.05, description='Alpha:', max=0.1, step=0.01), FloatSlider(value=0.8, descr…"
      ]
     },
     "metadata": {},
     "output_type": "display_data"
    },
    {
     "data": {
      "application/vnd.jupyter.widget-view+json": {
       "model_id": "03d72f8f62394dc596a7cdb082ea4773",
       "version_major": 2,
       "version_minor": 0
      },
      "text/plain": [
       "Output()"
      ]
     },
     "metadata": {},
     "output_type": "display_data"
    }
   ],
   "source": [
    "# Creating sliders\n",
    "alpha_slider = widgets.FloatSlider(min=0, max=0.1, step=0.01, value=0.05, description='Alpha:')\n",
    "power_slider = widgets.FloatSlider(min=0, max=1, step=0.01, value=0.8, description='Power:')\n",
    "es_slider = widgets.FloatSlider(min=0, max=2, step=0.05, value=0.3, description='Effect Size:')\n",
    "\n",
    "# Creating interactive plot\n",
    "interactive_plot = widgets.interactive_output(n_es_plot, {'alpha': alpha_slider, 'power': power_slider, 'es_in': es_slider})\n",
    "\n",
    "# Displaying the interactive plot\n",
    "display(widgets.HBox([alpha_slider, power_slider, es_slider]))\n",
    "display(interactive_plot)\n",
    "\n",
    "# Capture the output of the interactive plot\n",
    "widget_output = widgets.Output()\n",
    "with widget_output:\n",
    "    display(interactive_plot)"
   ]
  },
  {
   "cell_type": "code",
   "execution_count": 21,
   "id": "af4c9c59",
   "metadata": {},
   "outputs": [
    {
     "ename": "TypeError",
     "evalue": "_InteractFactory.__call__() takes from 1 to 2 positional arguments but 5 were given",
     "output_type": "error",
     "traceback": [
      "\u001b[0;31m---------------------------------------------------------------------------\u001b[0m",
      "\u001b[0;31mTypeError\u001b[0m                                 Traceback (most recent call last)",
      "\u001b[0;32m/tmp/ipykernel_15307/4274929548.py\u001b[0m in \u001b[0;36m<cell line: 1>\u001b[0;34m()\u001b[0m\n\u001b[0;32m----> 1\u001b[0;31m \u001b[0mwidgets\u001b[0m\u001b[0;34m.\u001b[0m\u001b[0minteract\u001b[0m\u001b[0;34m(\u001b[0m\u001b[0mn_es_plot\u001b[0m\u001b[0;34m,\u001b[0m \u001b[0malpha_slider\u001b[0m\u001b[0;34m,\u001b[0m \u001b[0mpower_slider\u001b[0m\u001b[0;34m,\u001b[0m \u001b[0mes_slider\u001b[0m\u001b[0;34m)\u001b[0m\u001b[0;34m\u001b[0m\u001b[0;34m\u001b[0m\u001b[0m\n\u001b[0m",
      "\u001b[0;31mTypeError\u001b[0m: _InteractFactory.__call__() takes from 1 to 2 positional arguments but 5 were given"
     ]
    }
   ],
   "source": [
    "widgets.interact(n_es_plot, alpha_slider, power_slider, es_slider)"
   ]
  },
  {
   "cell_type": "code",
   "execution_count": 27,
   "id": "e9ae7583",
   "metadata": {
    "scrolled": true
   },
   "outputs": [
    {
     "data": {
      "application/vnd.jupyter.widget-view+json": {
       "model_id": "aef995b80a7b475093f0b812b9e3ea7c",
       "version_major": 2,
       "version_minor": 0
      },
      "text/plain": [
       "interactive(children=(FloatSlider(value=0.05, description='alpha', max=0.1, step=0.01), FloatSlider(value=0.8,…"
      ]
     },
     "metadata": {},
     "output_type": "display_data"
    },
    {
     "ename": "AttributeError",
     "evalue": "'function' object has no attribute 'to_json'",
     "output_type": "error",
     "traceback": [
      "\u001b[0;31m---------------------------------------------------------------------------\u001b[0m",
      "\u001b[0;31mAttributeError\u001b[0m                            Traceback (most recent call last)",
      "\u001b[0;32m/tmp/ipykernel_15307/1669038183.py\u001b[0m in \u001b[0;36m<cell line: 2>\u001b[0;34m()\u001b[0m\n\u001b[1;32m      1\u001b[0m \u001b[0;31m# Convert the figure to a JSON string\u001b[0m\u001b[0;34m\u001b[0m\u001b[0;34m\u001b[0m\u001b[0m\n\u001b[0;32m----> 2\u001b[0;31m \u001b[0mfigure_json\u001b[0m \u001b[0;34m=\u001b[0m \u001b[0mipywidgets\u001b[0m\u001b[0;34m.\u001b[0m\u001b[0minteract\u001b[0m\u001b[0;34m(\u001b[0m\u001b[0mn_es_plot\u001b[0m\u001b[0;34m,\u001b[0m \u001b[0malpha\u001b[0m \u001b[0;34m=\u001b[0m \u001b[0;34m(\u001b[0m\u001b[0;36m0\u001b[0m\u001b[0;34m,\u001b[0m \u001b[0;36m0.1\u001b[0m\u001b[0;34m,\u001b[0m \u001b[0;36m0.01\u001b[0m\u001b[0;34m)\u001b[0m\u001b[0;34m,\u001b[0m \u001b[0mpower\u001b[0m \u001b[0;34m=\u001b[0m \u001b[0;34m(\u001b[0m\u001b[0;36m0\u001b[0m\u001b[0;34m,\u001b[0m\u001b[0;36m1\u001b[0m\u001b[0;34m,\u001b[0m \u001b[0;36m0.01\u001b[0m\u001b[0;34m)\u001b[0m\u001b[0;34m,\u001b[0m \u001b[0mes_in\u001b[0m \u001b[0;34m=\u001b[0m \u001b[0;34m(\u001b[0m\u001b[0;36m0\u001b[0m\u001b[0;34m,\u001b[0m \u001b[0;36m2\u001b[0m\u001b[0;34m,\u001b[0m \u001b[0;36m0.05\u001b[0m\u001b[0;34m)\u001b[0m\u001b[0;34m)\u001b[0m\u001b[0;34m.\u001b[0m\u001b[0mto_json\u001b[0m\u001b[0;34m(\u001b[0m\u001b[0;34m)\u001b[0m\u001b[0;34m\u001b[0m\u001b[0;34m\u001b[0m\u001b[0m\n\u001b[0m\u001b[1;32m      3\u001b[0m \u001b[0;34m\u001b[0m\u001b[0m\n\u001b[1;32m      4\u001b[0m \u001b[0;31m# Save the figure JSON as an HTML file\u001b[0m\u001b[0;34m\u001b[0m\u001b[0;34m\u001b[0m\u001b[0m\n\u001b[1;32m      5\u001b[0m \u001b[0;32mwith\u001b[0m \u001b[0mopen\u001b[0m\u001b[0;34m(\u001b[0m\u001b[0;34m'n_es_plot.html'\u001b[0m\u001b[0;34m,\u001b[0m \u001b[0;34m'w'\u001b[0m\u001b[0;34m)\u001b[0m \u001b[0;32mas\u001b[0m \u001b[0mfile\u001b[0m\u001b[0;34m:\u001b[0m\u001b[0;34m\u001b[0m\u001b[0;34m\u001b[0m\u001b[0m\n",
      "\u001b[0;31mAttributeError\u001b[0m: 'function' object has no attribute 'to_json'"
     ]
    }
   ],
   "source": [
    "# Convert the figure to a JSON string\n",
    "figure_json = ipywidgets.interact(n_es_plot, alpha = (0, 0.1, 0.01), power = (0,1, 0.01), es_in = (0, 2, 0.05)).to_json()\n",
    "\n",
    "# Save the figure JSON as an HTML file\n",
    "with open('n_es_plot.html', 'w') as file:\n",
    "    file.write(figure_json)"
   ]
  },
  {
   "cell_type": "code",
   "execution_count": 23,
   "id": "e13b8e1f",
   "metadata": {
    "collapsed": true
   },
   "outputs": [
    {
     "data": {
      "application/vnd.jupyter.widget-view+json": {
       "model_id": "2dce3ac275ef459ea96ad33647786795",
       "version_major": 2,
       "version_minor": 0
      },
      "text/plain": [
       "interactive(children=(FloatSlider(value=0.05, description='alpha', max=0.1, step=0.01), FloatSlider(value=0.8,…"
      ]
     },
     "metadata": {},
     "output_type": "display_data"
    }
   ],
   "source": [
    "#Function for visualising effect size vs. sample size with power and significance\n",
    "\n",
    "##required packages and libraries\n",
    "import numpy as np \n",
    "import matplotlib.pyplot as plt #for plotting\n",
    "import seaborn as sns \n",
    "from statsmodels.stats.power import TTestIndPower #Power calculatons\n",
    "import ipywidgets  #for creating interactive sliders\n",
    "import warnings\n",
    "warnings.filterwarnings('ignore')\n",
    "\n",
    "def n_es_plot(alpha = 0.05, power = 0.8, es_in = 0.3):\n",
    "    \n",
    "    \"\"\"\n",
    "    Funtion for creating a plot for given signifiacnce and power\n",
    "    \"\"\"\n",
    "    \n",
    "    effect_sizes = np.arange(0.005, 2, 0.005) #Range of effect sizes\n",
    "    \n",
    "    #Empty lists for storing results\n",
    "    es_list = []\n",
    "    n_list =[]\n",
    "    for es in effect_sizes:\n",
    "        power_analysis = TTestIndPower() #uses pooled variances\n",
    "        n_needed = power_analysis.solve_power(effect_size = es, \n",
    "                                               alpha = alpha,\n",
    "                                               power = power,\n",
    "                                               alternative = \"two-sided\") #Calculate the power of a t-test for two independent sample\n",
    "        es_list.append(es)\n",
    "        n_list.append(n_needed)\n",
    "        \n",
    "    n_in = n_list[es_list.index(es_in)]\n",
    "    \n",
    "    \n",
    "    fig = go.Figure()\n",
    "    sns.set_style('darkgrid')\n",
    "    fig.add_trace(go.Scatter(x=n_list, y=es_list, mode='lines', line=dict(color='mediumorchid')))\n",
    "    fig.add_trace(go.Scatter(x=[n_in, n_in], y=[0, es_in], mode='lines', line=dict(color='slateblue', dash='dash')))\n",
    "    fig.add_trace(go.Scatter(x=[0, n_in], y=[es_in, es_in], mode='lines', line=dict(color='slateblue', dash='dash')))\n",
    "    fig.add_trace(go.Scatter(x=[n_in], y=[es_in], mode='markers', marker=dict(color='midnightblue')))\n",
    "    fig.update_layout(\n",
    "        xaxis=dict(title=\"Sample Size\", range=[0, 500]),  # Constrain x-axis to range 0-500\n",
    "        yaxis=dict(title=\"Effect Size\"),\n",
    "        title=f'Sample size vs. effect size for significance {alpha} and power {power}',\n",
    "        showlegend=False,\n",
    "        plot_bgcolor='white'\n",
    "    )\n",
    "\n",
    "    fig.update_annotations(\n",
    "        dict(\n",
    "            x=n_in,\n",
    "            y=0,\n",
    "            text=f'{round(n_in)} samples',\n",
    "            showarrow=True,\n",
    "            arrowhead=7,\n",
    "            ax=15,\n",
    "            ay=15,\n",
    "            bgcolor='mediumorchid',\n",
    "            opacity=0.8\n",
    "        )\n",
    "    )\n",
    "\n",
    "    return fig\n",
    "    \n",
    "ipywidgets.interact(n_es_plot, alpha = (0, 0.1, 0.01), power = (0,1, 0.01), es_in = (0, 2, 0.05))"
   ]
  }
 ],
 "metadata": {
  "kernelspec": {
   "display_name": "Python 3 (ipykernel)",
   "language": "python",
   "name": "python3"
  },
  "language_info": {
   "codemirror_mode": {
    "name": "ipython",
    "version": 3
   },
   "file_extension": ".py",
   "mimetype": "text/x-python",
   "name": "python",
   "nbconvert_exporter": "python",
   "pygments_lexer": "ipython3",
   "version": "3.10.9"
  }
 },
 "nbformat": 4,
 "nbformat_minor": 5
}
